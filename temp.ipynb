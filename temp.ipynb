{
 "cells": [
  {
   "cell_type": "code",
   "execution_count": 1,
   "metadata": {},
   "outputs": [],
   "source": [
    "import numpy as np"
   ]
  },
  {
   "cell_type": "code",
   "execution_count": 11,
   "metadata": {},
   "outputs": [
    {
     "name": "stdout",
     "output_type": "stream",
     "text": [
      "3.334914335544753\n"
     ]
    }
   ],
   "source": [
    "test_l2 = np.array([-0.899024, 1.20937731, -0.1163703, -0.96824549, 0.21720248, 0.38116853, -0.25176307, -1.26934092, -0.93253832, 1.47452841, 0.79964887, -0.33701991, 0.78972438, 0.96118006, 0.82962826])\n",
    "sum = 0\n",
    "\n",
    "'''\n",
    "for i in test_l2:\n",
    "    print('i: ', i)\n",
    "    square = i**2\n",
    "    print('square: ', square)\n",
    "    sum += square\n",
    "    print('sum: ', sum)\n",
    "'''\n",
    "#one = sum / 15\n",
    "#print(one)\n",
    "#one = np.sum(test_l2**2)**(1./2)\n",
    "#print(one)\n",
    "\n",
    "d1 = np.linalg.norm(test_l2)\n",
    "#d2 = np.sqrt(((test_l2 - test_l2) ** 2).sum(1))\n",
    "#d3 = cdist(test_l2, test_l2)[0]\n",
    "print(d1)"
   ]
  },
  {
   "cell_type": "code",
   "execution_count": null,
   "metadata": {},
   "outputs": [],
   "source": []
  }
 ],
 "metadata": {
  "kernelspec": {
   "display_name": "Python 3",
   "language": "python",
   "name": "python3"
  },
  "language_info": {
   "codemirror_mode": {
    "name": "ipython",
    "version": 3
   },
   "file_extension": ".py",
   "mimetype": "text/x-python",
   "name": "python",
   "nbconvert_exporter": "python",
   "pygments_lexer": "ipython3",
   "version": "3.5.5"
  }
 },
 "nbformat": 4,
 "nbformat_minor": 2
}
