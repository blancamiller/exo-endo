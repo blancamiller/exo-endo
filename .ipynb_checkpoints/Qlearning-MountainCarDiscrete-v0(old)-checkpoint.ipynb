{
 "cells": [
  {
   "cell_type": "markdown",
   "metadata": {},
   "source": [
    "# Q-learning for Mountain Car (Discrete)\n",
    "\n",
    "Goal: Use the action value function to find the optimal policy to get a car up a mountain.\n",
    "\n",
    "We construct this action value function using the Bellman equation: \n",
    "\n",
    "Q_t+1(s_t,a_t) = Q_t(s_t,a_t) + alpha * (r_t+1 + gamma * max_aQ_t(s_t+1,a)-Q_t(s_t,a_t))\n",
    "\n",
    "which allows us to update the Q-value iteratively. "
   ]
  },
  {
   "cell_type": "code",
   "execution_count": 1,
   "metadata": {},
   "outputs": [],
   "source": [
    "import gym\n",
    "import numpy as np"
   ]
  },
  {
   "cell_type": "code",
   "execution_count": 3,
   "metadata": {},
   "outputs": [],
   "source": [
    "env = gym.make('MountainCar-v0')"
   ]
  },
  {
   "cell_type": "code",
   "execution_count": 34,
   "metadata": {},
   "outputs": [
    {
     "data": {
      "text/plain": [
       "'\\na = np.zeros((5,), dtype=int)\\n#array([0, 0, 0, 0, 0])\\na\\n'"
      ]
     },
     "execution_count": 34,
     "metadata": {},
     "output_type": "execute_result"
    }
   ],
   "source": [
    "'''\n",
    "a = np.zeros((5,), dtype=int)\n",
    "#array([0, 0, 0, 0, 0])\n",
    "a\n",
    "'''"
   ]
  },
  {
   "cell_type": "code",
   "execution_count": 35,
   "metadata": {},
   "outputs": [],
   "source": [
    "#a[1]"
   ]
  },
  {
   "cell_type": "code",
   "execution_count": 38,
   "metadata": {},
   "outputs": [
    {
     "name": "stdout",
     "output_type": "stream",
     "text": [
      "[[0 0 0]\n",
      " [0 0 0]]\n",
      "<class 'numpy.int64'>\n",
      "s [-0.53186072  0.        ]\n"
     ]
    },
    {
     "ename": "IndexError",
     "evalue": "arrays used as indices must be of integer (or boolean) type",
     "output_type": "error",
     "traceback": [
      "\u001b[0;31m---------------------------------------------------------------------------\u001b[0m",
      "\u001b[0;31mIndexError\u001b[0m                                Traceback (most recent call last)",
      "\u001b[0;32m<ipython-input-38-8f539c9d537b>\u001b[0m in \u001b[0;36m<module>\u001b[0;34m\u001b[0m\n\u001b[1;32m     25\u001b[0m \u001b[0;34m\u001b[0m\u001b[0m\n\u001b[1;32m     26\u001b[0m         \u001b[0;31m# choose greedy action\u001b[0m\u001b[0;34m\u001b[0m\u001b[0;34m\u001b[0m\u001b[0m\n\u001b[0;32m---> 27\u001b[0;31m         \u001b[0ma\u001b[0m \u001b[0;34m=\u001b[0m \u001b[0mnp\u001b[0m\u001b[0;34m.\u001b[0m\u001b[0margmax\u001b[0m\u001b[0;34m(\u001b[0m\u001b[0mQ\u001b[0m\u001b[0;34m[\u001b[0m\u001b[0ms\u001b[0m\u001b[0;34m,\u001b[0m\u001b[0;34m:\u001b[0m\u001b[0;34m]\u001b[0m\u001b[0;34m)\u001b[0m\u001b[0;34m\u001b[0m\u001b[0m\n\u001b[0m\u001b[1;32m     28\u001b[0m         \u001b[0;31m# + np.random.randn(1,num_actions))\u001b[0m\u001b[0;34m\u001b[0m\u001b[0;34m\u001b[0m\u001b[0m\n\u001b[1;32m     29\u001b[0m \u001b[0;34m\u001b[0m\u001b[0m\n",
      "\u001b[0;31mIndexError\u001b[0m: arrays used as indices must be of integer (or boolean) type"
     ]
    }
   ],
   "source": [
    "#Q-learning Algorithm\n",
    "\n",
    "num_states = 2\n",
    "num_actions = env.action_space.n\n",
    "\n",
    "# initialize the table of Q values with zeros\n",
    "Q = np.array([[0, 0, 0],[0, 0, 0]])\n",
    "\n",
    "#np.zeros([num_states, num_actions], dtype=np.int16)\n",
    "print(type(Q[0][0]))\n",
    "\n",
    "\n",
    "# loop through the episodes \n",
    "for i in range(200):\n",
    "    s = env.reset()\n",
    "    print('s',s) # ISSUE: \n",
    "    # Currently getting Error: IndexError: \n",
    "    # arrays used as indices must be of integer (or boolean) type \n",
    "    # seems to be an issue with s, not with Q\n",
    "    \n",
    "    reward = 0\n",
    "    goal_flag = False\n",
    "    \n",
    "    # loop through each step in the episode\n",
    "    for j in range(200):\n",
    "        \n",
    "        # choose greedy action \n",
    "        a = np.argmax(Q[s,:])\n",
    "        # + np.random.randn(1,num_actions))\n",
    "        \n",
    "        #*(1./(i+1)))\n",
    "        '''\n",
    "        # get next state and reward for taking action a \n",
    "        s_new, r, goal_flag, _ = env.step(a)\n",
    "        \n",
    "        maxQ = np.max(Q[s_new,:])\n",
    "        \n",
    "        # Bellman equation \n",
    "        Q[s,a] += lr * (r + g*maxQ - Q[s,a])\n",
    "        \n",
    "        # store reward and reset state\n",
    "        reward += r\n",
    "        s = s_new\n",
    "        \n",
    "        if goal_flag == True:\n",
    "            break\n",
    "        '''\n",
    "        "
   ]
  },
  {
   "cell_type": "code",
   "execution_count": null,
   "metadata": {},
   "outputs": [],
   "source": []
  }
 ],
 "metadata": {
  "kernelspec": {
   "display_name": "Python 3",
   "language": "python",
   "name": "python3"
  },
  "language_info": {
   "codemirror_mode": {
    "name": "ipython",
    "version": 3
   },
   "file_extension": ".py",
   "mimetype": "text/x-python",
   "name": "python",
   "nbconvert_exporter": "python",
   "pygments_lexer": "ipython3",
   "version": "3.5.5"
  }
 },
 "nbformat": 4,
 "nbformat_minor": 2
}
